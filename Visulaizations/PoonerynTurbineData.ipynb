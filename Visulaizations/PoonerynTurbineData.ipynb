{
 "cells": [
  {
   "cell_type": "code",
   "execution_count": 2,
   "metadata": {},
   "outputs": [
    {
     "data": {
      "text/html": [
       "<div>\n",
       "<style scoped>\n",
       "    .dataframe tbody tr th:only-of-type {\n",
       "        vertical-align: middle;\n",
       "    }\n",
       "\n",
       "    .dataframe tbody tr th {\n",
       "        vertical-align: top;\n",
       "    }\n",
       "\n",
       "    .dataframe thead th {\n",
       "        text-align: right;\n",
       "    }\n",
       "</style>\n",
       "<table border=\"1\" class=\"dataframe\">\n",
       "  <thead>\n",
       "    <tr style=\"text-align: right;\">\n",
       "      <th></th>\n",
       "      <th>timestamp</th>\n",
       "      <th>C1-Thies @79m ESE Average</th>\n",
       "      <th>C1-Thies 4.3303(m/s) @79m ESE-10 Min Max Value</th>\n",
       "      <th>C1-Thies 4.3303(m/s) @79m ESE-10 Min Min Value</th>\n",
       "      <th>C2-Thies @79m WNW Average</th>\n",
       "      <th>C2-Thies 4.3303(m/s) @79m WNW-10 Min Max Value</th>\n",
       "      <th>C2-Thies 4.3303(m/s) @79m WNW-10 Min Min Value</th>\n",
       "      <th>height 79m</th>\n",
       "      <th>C3-Thies @60m ESE Average</th>\n",
       "      <th>C3-Thies 4.3303(m/s) @60m ESE-10 Min Max Value</th>\n",
       "      <th>...</th>\n",
       "      <th>Unnamed: 88</th>\n",
       "      <th>Unnamed: 89</th>\n",
       "      <th>Unnamed: 90</th>\n",
       "      <th>Unnamed: 91</th>\n",
       "      <th>Unnamed: 92</th>\n",
       "      <th>Unnamed: 93</th>\n",
       "      <th>Unnamed: 94</th>\n",
       "      <th>Unnamed: 95</th>\n",
       "      <th>Unnamed: 96</th>\n",
       "      <th>Unnamed: 97</th>\n",
       "    </tr>\n",
       "  </thead>\n",
       "  <tbody>\n",
       "    <tr>\n",
       "      <th>0</th>\n",
       "      <td>2015-02-23 00:00:01</td>\n",
       "      <td>5.55</td>\n",
       "      <td>7.21</td>\n",
       "      <td>3.59</td>\n",
       "      <td>5.59</td>\n",
       "      <td>7.26</td>\n",
       "      <td>3.41</td>\n",
       "      <td>5.57</td>\n",
       "      <td>4.71</td>\n",
       "      <td>6.68</td>\n",
       "      <td>...</td>\n",
       "      <td>NaN</td>\n",
       "      <td>NaN</td>\n",
       "      <td>NaN</td>\n",
       "      <td>NaN</td>\n",
       "      <td>NaN</td>\n",
       "      <td>NaN</td>\n",
       "      <td>NaN</td>\n",
       "      <td>NaN</td>\n",
       "      <td>NaN</td>\n",
       "      <td>NaN</td>\n",
       "    </tr>\n",
       "    <tr>\n",
       "      <th>1</th>\n",
       "      <td>2015-02-23 00:10:01</td>\n",
       "      <td>5.68</td>\n",
       "      <td>6.94</td>\n",
       "      <td>3.91</td>\n",
       "      <td>5.72</td>\n",
       "      <td>6.96</td>\n",
       "      <td>4.07</td>\n",
       "      <td>5.70</td>\n",
       "      <td>5.01</td>\n",
       "      <td>6.27</td>\n",
       "      <td>...</td>\n",
       "      <td>NaN</td>\n",
       "      <td>NaN</td>\n",
       "      <td>NaN</td>\n",
       "      <td>NaN</td>\n",
       "      <td>NaN</td>\n",
       "      <td>NaN</td>\n",
       "      <td>NaN</td>\n",
       "      <td>NaN</td>\n",
       "      <td>NaN</td>\n",
       "      <td>NaN</td>\n",
       "    </tr>\n",
       "    <tr>\n",
       "      <th>2</th>\n",
       "      <td>2015-02-23 00:20:01</td>\n",
       "      <td>6.07</td>\n",
       "      <td>7.40</td>\n",
       "      <td>4.23</td>\n",
       "      <td>6.11</td>\n",
       "      <td>7.61</td>\n",
       "      <td>4.85</td>\n",
       "      <td>6.09</td>\n",
       "      <td>5.43</td>\n",
       "      <td>6.87</td>\n",
       "      <td>...</td>\n",
       "      <td>NaN</td>\n",
       "      <td>NaN</td>\n",
       "      <td>NaN</td>\n",
       "      <td>NaN</td>\n",
       "      <td>NaN</td>\n",
       "      <td>NaN</td>\n",
       "      <td>NaN</td>\n",
       "      <td>NaN</td>\n",
       "      <td>NaN</td>\n",
       "      <td>NaN</td>\n",
       "    </tr>\n",
       "    <tr>\n",
       "      <th>3</th>\n",
       "      <td>2015-02-23 00:30:01</td>\n",
       "      <td>5.48</td>\n",
       "      <td>7.14</td>\n",
       "      <td>2.58</td>\n",
       "      <td>5.52</td>\n",
       "      <td>6.85</td>\n",
       "      <td>2.33</td>\n",
       "      <td>5.50</td>\n",
       "      <td>4.92</td>\n",
       "      <td>6.43</td>\n",
       "      <td>...</td>\n",
       "      <td>NaN</td>\n",
       "      <td>NaN</td>\n",
       "      <td>NaN</td>\n",
       "      <td>NaN</td>\n",
       "      <td>NaN</td>\n",
       "      <td>NaN</td>\n",
       "      <td>NaN</td>\n",
       "      <td>NaN</td>\n",
       "      <td>NaN</td>\n",
       "      <td>NaN</td>\n",
       "    </tr>\n",
       "    <tr>\n",
       "      <th>4</th>\n",
       "      <td>2015-02-23 00:40:01</td>\n",
       "      <td>5.44</td>\n",
       "      <td>6.48</td>\n",
       "      <td>2.67</td>\n",
       "      <td>5.44</td>\n",
       "      <td>6.67</td>\n",
       "      <td>3.04</td>\n",
       "      <td>5.44</td>\n",
       "      <td>4.96</td>\n",
       "      <td>6.41</td>\n",
       "      <td>...</td>\n",
       "      <td>NaN</td>\n",
       "      <td>NaN</td>\n",
       "      <td>NaN</td>\n",
       "      <td>NaN</td>\n",
       "      <td>NaN</td>\n",
       "      <td>NaN</td>\n",
       "      <td>NaN</td>\n",
       "      <td>NaN</td>\n",
       "      <td>NaN</td>\n",
       "      <td>NaN</td>\n",
       "    </tr>\n",
       "  </tbody>\n",
       "</table>\n",
       "<p>5 rows × 98 columns</p>\n",
       "</div>"
      ],
      "text/plain": [
       "             timestamp  C1-Thies @79m ESE Average  \\\n",
       "0  2015-02-23 00:00:01                       5.55   \n",
       "1  2015-02-23 00:10:01                       5.68   \n",
       "2  2015-02-23 00:20:01                       6.07   \n",
       "3  2015-02-23 00:30:01                       5.48   \n",
       "4  2015-02-23 00:40:01                       5.44   \n",
       "\n",
       "   C1-Thies 4.3303(m/s) @79m ESE-10 Min Max Value  \\\n",
       "0                                            7.21   \n",
       "1                                            6.94   \n",
       "2                                            7.40   \n",
       "3                                            7.14   \n",
       "4                                            6.48   \n",
       "\n",
       "   C1-Thies 4.3303(m/s) @79m ESE-10 Min Min Value  C2-Thies @79m WNW Average  \\\n",
       "0                                            3.59                       5.59   \n",
       "1                                            3.91                       5.72   \n",
       "2                                            4.23                       6.11   \n",
       "3                                            2.58                       5.52   \n",
       "4                                            2.67                       5.44   \n",
       "\n",
       "   C2-Thies 4.3303(m/s) @79m WNW-10 Min Max Value  \\\n",
       "0                                            7.26   \n",
       "1                                            6.96   \n",
       "2                                            7.61   \n",
       "3                                            6.85   \n",
       "4                                            6.67   \n",
       "\n",
       "   C2-Thies 4.3303(m/s) @79m WNW-10 Min Min Value  height 79m  \\\n",
       "0                                            3.41        5.57   \n",
       "1                                            4.07        5.70   \n",
       "2                                            4.85        6.09   \n",
       "3                                            2.33        5.50   \n",
       "4                                            3.04        5.44   \n",
       "\n",
       "   C3-Thies @60m ESE Average  C3-Thies 4.3303(m/s) @60m ESE-10 Min Max Value  \\\n",
       "0                       4.71                                            6.68   \n",
       "1                       5.01                                            6.27   \n",
       "2                       5.43                                            6.87   \n",
       "3                       4.92                                            6.43   \n",
       "4                       4.96                                            6.41   \n",
       "\n",
       "   ...  Unnamed: 88  Unnamed: 89  Unnamed: 90  Unnamed: 91  Unnamed: 92  \\\n",
       "0  ...          NaN          NaN          NaN          NaN          NaN   \n",
       "1  ...          NaN          NaN          NaN          NaN          NaN   \n",
       "2  ...          NaN          NaN          NaN          NaN          NaN   \n",
       "3  ...          NaN          NaN          NaN          NaN          NaN   \n",
       "4  ...          NaN          NaN          NaN          NaN          NaN   \n",
       "\n",
       "   Unnamed: 93  Unnamed: 94  Unnamed: 95  Unnamed: 96  Unnamed: 97  \n",
       "0          NaN          NaN          NaN          NaN          NaN  \n",
       "1          NaN          NaN          NaN          NaN          NaN  \n",
       "2          NaN          NaN          NaN          NaN          NaN  \n",
       "3          NaN          NaN          NaN          NaN          NaN  \n",
       "4          NaN          NaN          NaN          NaN          NaN  \n",
       "\n",
       "[5 rows x 98 columns]"
      ]
     },
     "execution_count": 2,
     "metadata": {},
     "output_type": "execute_result"
    }
   ],
   "source": [
    "import pandas as pd\n",
    "import matplotlib.pyplot as plt\n",
    "%matplotlib inline\n",
    "plt.rcParams[\"figure.figsize\"] = [10, 6]\n",
    "\n",
    "excel_file = 'PoonerynOriginal.xlsx'\n",
    "pooneryn = pd.read_excel(excel_file)\n",
    "pooneryn.head(5)\n",
    "\n",
    "\n"
   ]
  },
  {
   "cell_type": "code",
   "execution_count": 28,
   "metadata": {},
   "outputs": [
    {
     "data": {
      "text/plain": [
       "<matplotlib.axes._subplots.AxesSubplot at 0x1f30860fb88>"
      ]
     },
     "execution_count": 28,
     "metadata": {},
     "output_type": "execute_result"
    },
    {
     "data": {
      "image/png": "[encoded data removed]",
      "text/plain": [
       "<Figure size 720x432 with 1 Axes>"
      ]
     },
     "metadata": {
      "needs_background": "light"
     },
     "output_type": "display_data"
    }
   ],
   "source": [
    "\n",
    "poonIndexed = pooneryn.set_index(['timestamp'])\n",
    "from datetime import datetime\n",
    "poonIndexed.head(5)\n",
    "%matplotlib inline\n",
    "plt.rcParams[\"figure.figsize\"] = [10, 6]\n",
    "pooneryn.plot(y=['height 79m','height 60m','height 40m'], x='timestamp')\n"
   ]
  },
  {
   "cell_type": "code",
   "execution_count": 84,
   "metadata": {},
   "outputs": [
    {
     "name": "stdout",
     "output_type": "stream",
     "text": [
      "False\n"
     ]
    }
   ],
   "source": [
    "\n"
   ]
  },
  {
   "cell_type": "code",
   "execution_count": 32,
   "metadata": {
    "scrolled": true
   },
   "outputs": [
    {
     "data": {
      "text/html": [
       "<div>\n",
       "<style scoped>\n",
       "    .dataframe tbody tr th:only-of-type {\n",
       "        vertical-align: middle;\n",
       "    }\n",
       "\n",
       "    .dataframe tbody tr th {\n",
       "        vertical-align: top;\n",
       "    }\n",
       "\n",
       "    .dataframe thead th {\n",
       "        text-align: right;\n",
       "    }\n",
       "</style>\n",
       "<table border=\"1\" class=\"dataframe\">\n",
       "  <thead>\n",
       "    <tr style=\"text-align: right;\">\n",
       "      <th></th>\n",
       "      <th>Year</th>\n",
       "      <th>Annual Energy /MWh</th>\n",
       "    </tr>\n",
       "    <tr>\n",
       "      <th>Year</th>\n",
       "      <th></th>\n",
       "      <th></th>\n",
       "    </tr>\n",
       "  </thead>\n",
       "  <tbody>\n",
       "    <tr>\n",
       "      <th>1970</th>\n",
       "      <td>1998</td>\n",
       "      <td>8184.82</td>\n",
       "    </tr>\n",
       "    <tr>\n",
       "      <th>1970</th>\n",
       "      <td>1999</td>\n",
       "      <td>8184.65</td>\n",
       "    </tr>\n",
       "    <tr>\n",
       "      <th>1970</th>\n",
       "      <td>2000</td>\n",
       "      <td>8184.51</td>\n",
       "    </tr>\n",
       "    <tr>\n",
       "      <th>1970</th>\n",
       "      <td>2001</td>\n",
       "      <td>8184.39</td>\n",
       "    </tr>\n",
       "    <tr>\n",
       "      <th>1970</th>\n",
       "      <td>2002</td>\n",
       "      <td>8184.28</td>\n",
       "    </tr>\n",
       "  </tbody>\n",
       "</table>\n",
       "</div>"
      ],
      "text/plain": [
       "      Year  Annual Energy /MWh\n",
       "Year                          \n",
       "1970  1998             8184.82\n",
       "1970  1999             8184.65\n",
       "1970  2000             8184.51\n",
       "1970  2001             8184.39\n",
       "1970  2002             8184.28"
      ]
     },
     "execution_count": 32,
     "metadata": {},
     "output_type": "execute_result"
    }
   ],
   "source": [
    "energy = pd.read_excel('energy.xlsx')\n",
    "energy.index = pd.to_datetime(energy['Year'], format='%Y-%m-%d').dt.year\n",
    "from datetime import datetime\n",
    "energy.head(5)"
   ]
  },
  {
   "cell_type": "code",
   "execution_count": 33,
   "metadata": {},
   "outputs": [
    {
     "data": {
      "text/plain": [
       "<matplotlib.axes._subplots.AxesSubplot at 0x1f3093f56c8>"
      ]
     },
     "execution_count": 33,
     "metadata": {},
     "output_type": "execute_result"
    },
    {
     "data": {
      "image/png": "[encoded data removed]",
      "text/plain": [
       "<Figure size 720x432 with 1 Axes>"
      ]
     },
     "metadata": {
      "needs_background": "light"
     },
     "output_type": "display_data"
    }
   ],
   "source": [
    "plt.rcParams[\"figure.figsize\"] = [10, 6]\n",
    "energy.plot(y='Annual Energy /MWh', x='Year')"
   ]
  },
  {
   "cell_type": "code",
   "execution_count": 38,
   "metadata": {},
   "outputs": [],
   "source": [
    "from statsmodels.tsa.stattools import adfuller\n",
    "def test_stationarity(timeseries):\n",
    "    \n",
    "    #Determing rolling statistics\n",
    "    #rolmean = pd.rolling_mean(timeseries, window=12)\n",
    "    #rolstd = pd.rolling_std(timeseries, window=12)\n",
    "    rolmean = timeseries.rolling(12).mean()\n",
    "    rolstd = timeseries.rolling(12).std()\n",
    "    #Plot rolling statistics:\n",
    "    orig = plt.plot(timeseries, color='blue',label='Original')\n",
    "    mean = plt.plot(rolmean, color='red', label='Rolling Mean')\n",
    "    std = plt.plot(rolstd, color='black', label = 'Rolling Std')\n",
    "    plt.legend(loc='best')\n",
    "    plt.title('Rolling Mean & Standard Deviation')\n",
    "    plt.show(block=False)\n",
    "    \n",
    "    #Perform Dickey-Fuller test:\n",
    "    print ('Results of Dickey-Fuller Test:')\n",
    "    dftest = adfuller(timeseries, autolag='AIC')\n",
    "    dfoutput = pd.Series(dftest[0:4], index=['Test Statistic','p-value','#Lags Used','Number of Observations Used'])\n",
    "    for key,value in dftest[4].items():\n",
    "        dfoutput['Critical Value (%s)'%key] = value\n",
    "    print (dfoutput)"
   ]
  },
  {
   "cell_type": "code",
   "execution_count": null,
   "metadata": {},
   "outputs": [],
   "source": []
  },
  {
   "cell_type": "code",
   "execution_count": null,
   "metadata": {},
   "outputs": [],
   "source": []
  }
 ],
 "metadata": {
  "kernelspec": {
   "display_name": "Python 3",
   "language": "python",
   "name": "python3"
  },
  "language_info": {
   "codemirror_mode": {
    "name": "ipython",
    "version": 3
   },
   "file_extension": ".py",
   "mimetype": "text/x-python",
   "name": "python",
   "nbconvert_exporter": "python",
   "pygments_lexer": "ipython3",
   "version": "3.7.6"
  }
 },
 "nbformat": 4,
 "nbformat_minor": 4
}
